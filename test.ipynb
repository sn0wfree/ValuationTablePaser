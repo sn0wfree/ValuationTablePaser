{
 "cells": [
  {
   "cell_type": "code",
   "execution_count": 1,
   "id": "04d054b2",
   "metadata": {},
   "outputs": [],
   "source": [
    "# coding = utf-8\n",
    "import pandas as pd\n",
    "import numpy as np\n",
    "\n",
    "from parser import default_config"
   ]
  },
  {
   "cell_type": "code",
   "execution_count": 14,
   "id": "7fc9e7e6",
   "metadata": {},
   "outputs": [],
   "source": [
    "# load level3 net value table\n",
    "target = \"D:\\紫金矿业\\组合基金部周报\\解析日估值表\\SSP881_紫金资产星辉私募证券投资基金_产品估值表_日报_20220624 (3).xls\"\n",
    "\n",
    "# 解析科目\n",
    "data = pd.read_excel(target)\n",
    "\n",
    "## 解析科目名称\n",
    "for r,d in data.iterrows():\n",
    "    print(d)\n",
    "    break\n",
    "\n",
    "c = default_config[0]\n",
    "func = c['converter']\n",
    "patterns = c['patterns']\n",
    "func(d,patterns)"
   ]
  },
  {
   "cell_type": "code",
   "execution_count": 15,
   "id": "5590cc54",
   "metadata": {},
   "outputs": [
    {
     "name": "stdout",
     "output_type": "stream",
     "text": [
      "SSP881_紫金资产星辉私募证券投资基金_产品估值表_日报_20220624    NaN\n",
      "Unnamed: 1                                 NaN\n",
      "Unnamed: 2                                 NaN\n",
      "Unnamed: 3                                 NaN\n",
      "Unnamed: 4                                 NaN\n",
      "Unnamed: 5                                 NaN\n",
      "Unnamed: 6                                 NaN\n",
      "Unnamed: 7                                 NaN\n",
      "Unnamed: 8                                 NaN\n",
      "Unnamed: 9                                 NaN\n",
      "Unnamed: 10                                NaN\n",
      "Unnamed: 11                                NaN\n",
      "Unnamed: 12                                NaN\n",
      "Unnamed: 13                                NaN\n",
      "Unnamed: 14                                NaN\n",
      "Unnamed: 15                                NaN\n",
      "Name: 0, dtype: object\n"
     ]
    }
   ],
   "source": []
  },
  {
   "cell_type": "code",
   "execution_count": 17,
   "id": "8ee7b191",
   "metadata": {},
   "outputs": [
    {
     "data": {
      "text/plain": [
       "{'name': 'date',\n",
       " 'patterns': ['估?值?日期[：|:]\\\\s?(?P<date>20\\\\d\\\\d[\\\\-年\\\\\\\\]?\\\\d+[\\\\-月\\\\\\\\]?\\\\d+)',\n",
       "  '^(?P<date>20\\\\d\\\\d[\\\\-年\\\\\\\\/]?[01]?[0-9][\\\\-月\\\\\\\\/]?[0-3]?[0-9])$',\n",
       "  '^[A-Z0-9]{6}}?_(?P<fund_name>(?!基金|私募|证券|[0-9a-zA-Z]{6})(?![a-zA-Z]+$)(?!单位.元$)(?!.*净值)(?!.*是否)(?!\\\\d+$)[^\\\\s`~!@#$%^&*_=\\\\|[\\\\]{};\\\\\"\\'<>,.?/·~！@#￥%……&*=|、｛｝【】；“”‘’《》，。？、]{3,}?(?<!估值表)(?<!科目代码)(?<!科目..代码)(?<![12][09][0-9][0-9]([-/年])[01][0-9]([-/月])[0-3][0-9])(?<![12][09][0-9][0-9][01][0-9][0-3][0-9]))_(?P<date>20\\\\d\\\\d[\\\\-年\\\\\\\\]?\\\\d+[\\\\-月\\\\\\\\]?\\\\d+)_资?产?估值表'],\n",
       " 'converter': <function tools.find_date(rows: [[]], patterns)>,\n",
       " 'description': '日期'}"
      ]
     },
     "execution_count": 17,
     "metadata": {},
     "output_type": "execute_result"
    }
   ],
   "source": [
    "\n",
    "c"
   ]
  },
  {
   "cell_type": "code",
   "execution_count": 18,
   "id": "a9102d08",
   "metadata": {},
   "outputs": [],
   "source": []
  },
  {
   "cell_type": "code",
   "execution_count": 19,
   "id": "87680adb",
   "metadata": {},
   "outputs": [
    {
     "ename": "TypeError",
     "evalue": "'float' object is not subscriptable",
     "output_type": "error",
     "traceback": [
      "\u001b[1;31m---------------------------------------------------------------------------\u001b[0m",
      "\u001b[1;31mTypeError\u001b[0m                                 Traceback (most recent call last)",
      "Input \u001b[1;32mIn [19]\u001b[0m, in \u001b[0;36m<cell line: 1>\u001b[1;34m()\u001b[0m\n\u001b[1;32m----> 1\u001b[0m \u001b[43mfunc\u001b[49m\u001b[43m(\u001b[49m\u001b[43md\u001b[49m\u001b[43m,\u001b[49m\u001b[43mpatterns\u001b[49m\u001b[43m)\u001b[49m\n",
      "File \u001b[1;32mD:\\紫金矿业\\组合基金部周报\\解析日估值表\\tools.py:309\u001b[0m, in \u001b[0;36mfind_date\u001b[1;34m(rows, patterns)\u001b[0m\n\u001b[0;32m    294\u001b[0m \u001b[38;5;124;03m\"\"\"\u001b[39;00m\n\u001b[0;32m    295\u001b[0m \u001b[38;5;124;03m>>> rows\u001b[39;00m\n\u001b[0;32m    296\u001b[0m \u001b[38;5;124;03m[\u001b[39;00m\n\u001b[1;32m   (...)\u001b[0m\n\u001b[0;32m    306\u001b[0m \u001b[38;5;124;03m:return:\u001b[39;00m\n\u001b[0;32m    307\u001b[0m \u001b[38;5;124;03m\"\"\"\u001b[39;00m\n\u001b[0;32m    308\u001b[0m \u001b[38;5;28;01mtry\u001b[39;00m:\n\u001b[1;32m--> 309\u001b[0m     value \u001b[38;5;241m=\u001b[39m \u001b[43mrows\u001b[49m\u001b[43m[\u001b[49m\u001b[38;5;241;43m-\u001b[39;49m\u001b[38;5;241;43m2\u001b[39;49m\u001b[43m]\u001b[49m\u001b[43m[\u001b[49m\u001b[38;5;241;43m0\u001b[39;49m\u001b[43m]\u001b[49m\n\u001b[0;32m    310\u001b[0m     \u001b[38;5;28;01mfor\u001b[39;00m pattern \u001b[38;5;129;01min\u001b[39;00m patterns:\n\u001b[0;32m    311\u001b[0m         matched \u001b[38;5;241m=\u001b[39m re\u001b[38;5;241m.\u001b[39mmatch(pattern, value)\n",
      "\u001b[1;31mTypeError\u001b[0m: 'float' object is not subscriptable"
     ]
    }
   ],
   "source": []
  },
  {
   "cell_type": "code",
   "execution_count": null,
   "id": "03a886a7",
   "metadata": {},
   "outputs": [],
   "source": []
  }
 ],
 "metadata": {
  "kernelspec": {
   "display_name": "QuantNodes",
   "language": "python",
   "name": "quantnodes"
  },
  "language_info": {
   "codemirror_mode": {
    "name": "ipython",
    "version": 3
   },
   "file_extension": ".py",
   "mimetype": "text/x-python",
   "name": "python",
   "nbconvert_exporter": "python",
   "pygments_lexer": "ipython3",
   "version": "3.10.4"
  }
 },
 "nbformat": 4,
 "nbformat_minor": 5
}
